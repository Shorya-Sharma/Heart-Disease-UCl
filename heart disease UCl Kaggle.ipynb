{
 "cells": [
  {
   "cell_type": "code",
   "execution_count": 1,
   "metadata": {
    "_cell_guid": "b1076dfc-b9ad-4769-8c92-a6c4dae69d19",
    "_uuid": "8f2839f25d086af736a60e9eeb907d3b93b6e0e5"
   },
   "outputs": [
    {
     "name": "stdout",
     "output_type": "stream",
     "text": [
      "/kaggle/input/heart-disease-uci/heart.csv\n"
     ]
    }
   ],
   "source": [
    "# This Python 3 environment comes with many helpful analytics libraries installed\n",
    "# It is defined by the kaggle/python docker image: https://github.com/kaggle/docker-python\n",
    "# For example, here's several helpful packages to load in \n",
    "\n",
    "import numpy as np # linear algebra\n",
    "import pandas as pd # data processing, CSV file I/O (e.g. pd.read_csv)\n",
    "\n",
    "# Input data files are available in the \"../input/\" directory.\n",
    "# For example, running this (by clicking run or pressing Shift+Enter) will list all files under the input directory\n",
    "\n",
    "import os\n",
    "for dirname, _, filenames in os.walk('/kaggle/input'):\n",
    "    for filename in filenames:\n",
    "        print(os.path.join(dirname, filename))\n",
    "\n",
    "# Any results you write to the current directory are saved as output."
   ]
  },
  {
   "cell_type": "code",
   "execution_count": 2,
   "metadata": {
    "_cell_guid": "79c7e3d0-c299-4dcb-8224-4455121ee9b0",
    "_uuid": "d629ff2d2480ee46fbb7e2d37f6b5fab8052498a"
   },
   "outputs": [],
   "source": [
    "import matplotlib.pyplot as plt\n",
    "plt.style.use(\"ggplot\")"
   ]
  },
  {
   "cell_type": "code",
   "execution_count": 3,
   "metadata": {},
   "outputs": [],
   "source": [
    "df = pd.read_csv(\"/kaggle/input/heart-disease-uci/heart.csv\")"
   ]
  },
  {
   "cell_type": "code",
   "execution_count": 4,
   "metadata": {},
   "outputs": [
    {
     "data": {
      "text/html": [
       "<div>\n",
       "<style scoped>\n",
       "    .dataframe tbody tr th:only-of-type {\n",
       "        vertical-align: middle;\n",
       "    }\n",
       "\n",
       "    .dataframe tbody tr th {\n",
       "        vertical-align: top;\n",
       "    }\n",
       "\n",
       "    .dataframe thead th {\n",
       "        text-align: right;\n",
       "    }\n",
       "</style>\n",
       "<table border=\"1\" class=\"dataframe\">\n",
       "  <thead>\n",
       "    <tr style=\"text-align: right;\">\n",
       "      <th></th>\n",
       "      <th>age</th>\n",
       "      <th>sex</th>\n",
       "      <th>cp</th>\n",
       "      <th>trestbps</th>\n",
       "      <th>chol</th>\n",
       "      <th>fbs</th>\n",
       "      <th>restecg</th>\n",
       "      <th>thalach</th>\n",
       "      <th>exang</th>\n",
       "      <th>oldpeak</th>\n",
       "      <th>slope</th>\n",
       "      <th>ca</th>\n",
       "      <th>thal</th>\n",
       "      <th>target</th>\n",
       "    </tr>\n",
       "  </thead>\n",
       "  <tbody>\n",
       "    <tr>\n",
       "      <th>0</th>\n",
       "      <td>63</td>\n",
       "      <td>1</td>\n",
       "      <td>3</td>\n",
       "      <td>145</td>\n",
       "      <td>233</td>\n",
       "      <td>1</td>\n",
       "      <td>0</td>\n",
       "      <td>150</td>\n",
       "      <td>0</td>\n",
       "      <td>2.3</td>\n",
       "      <td>0</td>\n",
       "      <td>0</td>\n",
       "      <td>1</td>\n",
       "      <td>1</td>\n",
       "    </tr>\n",
       "    <tr>\n",
       "      <th>1</th>\n",
       "      <td>37</td>\n",
       "      <td>1</td>\n",
       "      <td>2</td>\n",
       "      <td>130</td>\n",
       "      <td>250</td>\n",
       "      <td>0</td>\n",
       "      <td>1</td>\n",
       "      <td>187</td>\n",
       "      <td>0</td>\n",
       "      <td>3.5</td>\n",
       "      <td>0</td>\n",
       "      <td>0</td>\n",
       "      <td>2</td>\n",
       "      <td>1</td>\n",
       "    </tr>\n",
       "    <tr>\n",
       "      <th>2</th>\n",
       "      <td>41</td>\n",
       "      <td>0</td>\n",
       "      <td>1</td>\n",
       "      <td>130</td>\n",
       "      <td>204</td>\n",
       "      <td>0</td>\n",
       "      <td>0</td>\n",
       "      <td>172</td>\n",
       "      <td>0</td>\n",
       "      <td>1.4</td>\n",
       "      <td>2</td>\n",
       "      <td>0</td>\n",
       "      <td>2</td>\n",
       "      <td>1</td>\n",
       "    </tr>\n",
       "    <tr>\n",
       "      <th>3</th>\n",
       "      <td>56</td>\n",
       "      <td>1</td>\n",
       "      <td>1</td>\n",
       "      <td>120</td>\n",
       "      <td>236</td>\n",
       "      <td>0</td>\n",
       "      <td>1</td>\n",
       "      <td>178</td>\n",
       "      <td>0</td>\n",
       "      <td>0.8</td>\n",
       "      <td>2</td>\n",
       "      <td>0</td>\n",
       "      <td>2</td>\n",
       "      <td>1</td>\n",
       "    </tr>\n",
       "    <tr>\n",
       "      <th>4</th>\n",
       "      <td>57</td>\n",
       "      <td>0</td>\n",
       "      <td>0</td>\n",
       "      <td>120</td>\n",
       "      <td>354</td>\n",
       "      <td>0</td>\n",
       "      <td>1</td>\n",
       "      <td>163</td>\n",
       "      <td>1</td>\n",
       "      <td>0.6</td>\n",
       "      <td>2</td>\n",
       "      <td>0</td>\n",
       "      <td>2</td>\n",
       "      <td>1</td>\n",
       "    </tr>\n",
       "  </tbody>\n",
       "</table>\n",
       "</div>"
      ],
      "text/plain": [
       "   age  sex  cp  trestbps  chol  fbs  restecg  thalach  exang  oldpeak  slope  \\\n",
       "0   63    1   3       145   233    1        0      150      0      2.3      0   \n",
       "1   37    1   2       130   250    0        1      187      0      3.5      0   \n",
       "2   41    0   1       130   204    0        0      172      0      1.4      2   \n",
       "3   56    1   1       120   236    0        1      178      0      0.8      2   \n",
       "4   57    0   0       120   354    0        1      163      1      0.6      2   \n",
       "\n",
       "   ca  thal  target  \n",
       "0   0     1       1  \n",
       "1   0     2       1  \n",
       "2   0     2       1  \n",
       "3   0     2       1  \n",
       "4   0     2       1  "
      ]
     },
     "execution_count": 4,
     "metadata": {},
     "output_type": "execute_result"
    }
   ],
   "source": [
    "df.head()"
   ]
  },
  {
   "cell_type": "code",
   "execution_count": 5,
   "metadata": {},
   "outputs": [],
   "source": [
    "X = df.drop(\"target\", axis=1)\n",
    "y = df['target']"
   ]
  },
  {
   "cell_type": "code",
   "execution_count": 6,
   "metadata": {},
   "outputs": [],
   "source": [
    "from sklearn.model_selection import train_test_split"
   ]
  },
  {
   "cell_type": "code",
   "execution_count": 7,
   "metadata": {},
   "outputs": [],
   "source": [
    "X_train, X_test, y_train, y_test = train_test_split(X, y, test_size=0.25)"
   ]
  },
  {
   "cell_type": "code",
   "execution_count": 8,
   "metadata": {},
   "outputs": [],
   "source": [
    "from sklearn.preprocessing import MinMaxScaler"
   ]
  },
  {
   "cell_type": "code",
   "execution_count": 9,
   "metadata": {},
   "outputs": [],
   "source": [
    "sc = MinMaxScaler((-1, 1))"
   ]
  },
  {
   "cell_type": "code",
   "execution_count": 10,
   "metadata": {},
   "outputs": [],
   "source": [
    "X_train = sc.fit_transform(X_train)\n",
    "X_test = sc.transform(X_test)"
   ]
  },
  {
   "cell_type": "code",
   "execution_count": 11,
   "metadata": {},
   "outputs": [],
   "source": [
    "import torch\n",
    "from torch import nn, optim\n",
    "from torch.nn import functional as F"
   ]
  },
  {
   "cell_type": "code",
   "execution_count": 12,
   "metadata": {},
   "outputs": [
    {
     "data": {
      "text/plain": [
       "(227, 13)"
      ]
     },
     "execution_count": 12,
     "metadata": {},
     "output_type": "execute_result"
    }
   ],
   "source": [
    "X_train.shape"
   ]
  },
  {
   "cell_type": "code",
   "execution_count": 13,
   "metadata": {},
   "outputs": [],
   "source": [
    "X_train = torch.tensor(X_train).float()\n",
    "X_test = torch.tensor(X_test).float()\n",
    "y_train = torch.tensor(y_train.values).long()\n",
    "y_test = torch.tensor(y_test.values).long()"
   ]
  },
  {
   "cell_type": "code",
   "execution_count": 14,
   "metadata": {},
   "outputs": [],
   "source": [
    "class HeartDiseaseNN(nn.Module):\n",
    "    def __init__(self):\n",
    "        super(HeartDiseaseNN, self).__init__()\n",
    "        self.fc1 = nn.Linear(13, 100)\n",
    "        self.fc2 = nn.Linear(100, 100)\n",
    "        self.fc3 = nn.Linear(100, 2)\n",
    "    def forward(self, x):\n",
    "        x = F.relu(self.fc1(x))\n",
    "        x = F.relu(self.fc2(x))\n",
    "        return self.fc3(x)"
   ]
  },
  {
   "cell_type": "code",
   "execution_count": 15,
   "metadata": {},
   "outputs": [],
   "source": [
    "net = HeartDiseaseNN()"
   ]
  },
  {
   "cell_type": "code",
   "execution_count": 16,
   "metadata": {},
   "outputs": [],
   "source": [
    "optimizer = optim.Adam(net.parameters())\n",
    "criterion = nn.CrossEntropyLoss()"
   ]
  },
  {
   "cell_type": "code",
   "execution_count": 17,
   "metadata": {},
   "outputs": [],
   "source": [
    "losses = []"
   ]
  },
  {
   "cell_type": "code",
   "execution_count": 18,
   "metadata": {},
   "outputs": [
    {
     "name": "stdout",
     "output_type": "stream",
     "text": [
      "Epoch 1, Loss: 0.6903858780860901\n",
      "Epoch 2, Loss: 0.6774693727493286\n",
      "Epoch 3, Loss: 0.6654196977615356\n",
      "Epoch 4, Loss: 0.6540058851242065\n",
      "Epoch 5, Loss: 0.6429582238197327\n",
      "Epoch 6, Loss: 0.632128119468689\n",
      "Epoch 7, Loss: 0.6213775277137756\n",
      "Epoch 8, Loss: 0.610590398311615\n",
      "Epoch 9, Loss: 0.5996828079223633\n",
      "Epoch 10, Loss: 0.5886480808258057\n",
      "Epoch 11, Loss: 0.5775065422058105\n",
      "Epoch 12, Loss: 0.5662845373153687\n",
      "Epoch 13, Loss: 0.5548694729804993\n",
      "Epoch 14, Loss: 0.5432387590408325\n",
      "Epoch 15, Loss: 0.5315544009208679\n",
      "Epoch 16, Loss: 0.5199609398841858\n",
      "Epoch 17, Loss: 0.5084003210067749\n",
      "Epoch 18, Loss: 0.49697190523147583\n",
      "Epoch 19, Loss: 0.4857673943042755\n",
      "Epoch 20, Loss: 0.4748818278312683\n",
      "Epoch 21, Loss: 0.46439555287361145\n",
      "Epoch 22, Loss: 0.454364538192749\n",
      "Epoch 23, Loss: 0.44480663537979126\n",
      "Epoch 24, Loss: 0.4357711374759674\n",
      "Epoch 25, Loss: 0.42728930711746216\n",
      "Epoch 26, Loss: 0.41935858130455017\n",
      "Epoch 27, Loss: 0.4119761884212494\n",
      "Epoch 28, Loss: 0.40507882833480835\n",
      "Epoch 29, Loss: 0.3986172080039978\n",
      "Epoch 30, Loss: 0.39249736070632935\n",
      "Epoch 31, Loss: 0.3866974711418152\n",
      "Epoch 32, Loss: 0.3812029957771301\n",
      "Epoch 33, Loss: 0.37590929865837097\n",
      "Epoch 34, Loss: 0.37081894278526306\n",
      "Epoch 35, Loss: 0.3659139573574066\n",
      "Epoch 36, Loss: 0.36116456985473633\n",
      "Epoch 37, Loss: 0.35655295848846436\n",
      "Epoch 38, Loss: 0.3520897328853607\n",
      "Epoch 39, Loss: 0.34779009222984314\n",
      "Epoch 40, Loss: 0.34363892674446106\n",
      "Epoch 41, Loss: 0.3396540582180023\n",
      "Epoch 42, Loss: 0.335772842168808\n",
      "Epoch 43, Loss: 0.3319642245769501\n",
      "Epoch 44, Loss: 0.3282705545425415\n",
      "Epoch 45, Loss: 0.32465434074401855\n",
      "Epoch 46, Loss: 0.32106465101242065\n",
      "Epoch 47, Loss: 0.3175223171710968\n",
      "Epoch 48, Loss: 0.3140227198600769\n",
      "Epoch 49, Loss: 0.3105826675891876\n",
      "Epoch 50, Loss: 0.30721500515937805\n",
      "Epoch 51, Loss: 0.3038822412490845\n",
      "Epoch 52, Loss: 0.30056214332580566\n",
      "Epoch 53, Loss: 0.29727381467819214\n",
      "Epoch 54, Loss: 0.2940274178981781\n",
      "Epoch 55, Loss: 0.29083946347236633\n",
      "Epoch 56, Loss: 0.28773877024650574\n",
      "Epoch 57, Loss: 0.28468459844589233\n",
      "Epoch 58, Loss: 0.28169161081314087\n",
      "Epoch 59, Loss: 0.27873560786247253\n",
      "Epoch 60, Loss: 0.27579835057258606\n",
      "Epoch 61, Loss: 0.2728821635246277\n",
      "Epoch 62, Loss: 0.26999691128730774\n",
      "Epoch 63, Loss: 0.26713937520980835\n",
      "Epoch 64, Loss: 0.264285683631897\n",
      "Epoch 65, Loss: 0.2614567279815674\n",
      "Epoch 66, Loss: 0.2586562931537628\n",
      "Epoch 67, Loss: 0.25585538148880005\n",
      "Epoch 68, Loss: 0.2530841827392578\n",
      "Epoch 69, Loss: 0.25031134486198425\n",
      "Epoch 70, Loss: 0.24754464626312256\n",
      "Epoch 71, Loss: 0.2447846233844757\n",
      "Epoch 72, Loss: 0.24199429154396057\n",
      "Epoch 73, Loss: 0.23921650648117065\n",
      "Epoch 74, Loss: 0.23644985258579254\n",
      "Epoch 75, Loss: 0.23370501399040222\n",
      "Epoch 76, Loss: 0.23097237944602966\n",
      "Epoch 77, Loss: 0.22823940217494965\n",
      "Epoch 78, Loss: 0.22552071511745453\n",
      "Epoch 79, Loss: 0.2228318452835083\n",
      "Epoch 80, Loss: 0.22015725076198578\n",
      "Epoch 81, Loss: 0.2174827754497528\n",
      "Epoch 82, Loss: 0.2148175686597824\n",
      "Epoch 83, Loss: 0.21217282116413116\n",
      "Epoch 84, Loss: 0.20952942967414856\n",
      "Epoch 85, Loss: 0.20686611533164978\n",
      "Epoch 86, Loss: 0.20418426394462585\n",
      "Epoch 87, Loss: 0.20154036581516266\n",
      "Epoch 88, Loss: 0.19893835484981537\n",
      "Epoch 89, Loss: 0.19632507860660553\n",
      "Epoch 90, Loss: 0.19372785091400146\n",
      "Epoch 91, Loss: 0.19110874831676483\n",
      "Epoch 92, Loss: 0.1884652078151703\n",
      "Epoch 93, Loss: 0.18584348261356354\n",
      "Epoch 94, Loss: 0.18323372304439545\n",
      "Epoch 95, Loss: 0.180599182844162\n",
      "Epoch 96, Loss: 0.1779947727918625\n",
      "Epoch 97, Loss: 0.17541851103305817\n",
      "Epoch 98, Loss: 0.17282529175281525\n",
      "Epoch 99, Loss: 0.17023368179798126\n",
      "Epoch 100, Loss: 0.16764149069786072\n",
      "Epoch 101, Loss: 0.1650366187095642\n",
      "Epoch 102, Loss: 0.162469282746315\n",
      "Epoch 103, Loss: 0.15991118550300598\n",
      "Epoch 104, Loss: 0.15736563503742218\n",
      "Epoch 105, Loss: 0.15483933687210083\n",
      "Epoch 106, Loss: 0.15230077505111694\n",
      "Epoch 107, Loss: 0.14977523684501648\n",
      "Epoch 108, Loss: 0.14728564023971558\n",
      "Epoch 109, Loss: 0.14479123055934906\n",
      "Epoch 110, Loss: 0.14227810502052307\n",
      "Epoch 111, Loss: 0.13982658088207245\n",
      "Epoch 112, Loss: 0.13741444051265717\n",
      "Epoch 113, Loss: 0.1349913626909256\n",
      "Epoch 114, Loss: 0.1325974464416504\n",
      "Epoch 115, Loss: 0.1302206665277481\n",
      "Epoch 116, Loss: 0.12787117063999176\n",
      "Epoch 117, Loss: 0.12553770840168\n",
      "Epoch 118, Loss: 0.12319794297218323\n",
      "Epoch 119, Loss: 0.12083852291107178\n",
      "Epoch 120, Loss: 0.1185108944773674\n",
      "Epoch 121, Loss: 0.11620284616947174\n",
      "Epoch 122, Loss: 0.11393765360116959\n",
      "Epoch 123, Loss: 0.11171615123748779\n",
      "Epoch 124, Loss: 0.10948211699724197\n",
      "Epoch 125, Loss: 0.10734250396490097\n",
      "Epoch 126, Loss: 0.10520865023136139\n",
      "Epoch 127, Loss: 0.10309668630361557\n",
      "Epoch 128, Loss: 0.10102516412734985\n",
      "Epoch 129, Loss: 0.09898006170988083\n",
      "Epoch 130, Loss: 0.09693779051303864\n",
      "Epoch 131, Loss: 0.0949578732252121\n",
      "Epoch 132, Loss: 0.09300245344638824\n",
      "Epoch 133, Loss: 0.09108159691095352\n",
      "Epoch 134, Loss: 0.08919411897659302\n",
      "Epoch 135, Loss: 0.08730943500995636\n",
      "Epoch 136, Loss: 0.08547989279031754\n",
      "Epoch 137, Loss: 0.0836699977517128\n",
      "Epoch 138, Loss: 0.0818726196885109\n",
      "Epoch 139, Loss: 0.08013411611318588\n",
      "Epoch 140, Loss: 0.07842179387807846\n",
      "Epoch 141, Loss: 0.0767713263630867\n",
      "Epoch 142, Loss: 0.07515886425971985\n",
      "Epoch 143, Loss: 0.07358010858297348\n",
      "Epoch 144, Loss: 0.07202450186014175\n",
      "Epoch 145, Loss: 0.07049355655908585\n",
      "Epoch 146, Loss: 0.06898427754640579\n",
      "Epoch 147, Loss: 0.06753028184175491\n",
      "Epoch 148, Loss: 0.06609034538269043\n",
      "Epoch 149, Loss: 0.06470616161823273\n",
      "Epoch 150, Loss: 0.06332997977733612\n",
      "Epoch 151, Loss: 0.06201085075736046\n",
      "Epoch 152, Loss: 0.06072916090488434\n",
      "Epoch 153, Loss: 0.05942907556891441\n",
      "Epoch 154, Loss: 0.05820050835609436\n",
      "Epoch 155, Loss: 0.05700749158859253\n",
      "Epoch 156, Loss: 0.05584012717008591\n",
      "Epoch 157, Loss: 0.05468327924609184\n",
      "Epoch 158, Loss: 0.0535767562687397\n",
      "Epoch 159, Loss: 0.05249829962849617\n",
      "Epoch 160, Loss: 0.05149015784263611\n",
      "Epoch 161, Loss: 0.05047956854104996\n",
      "Epoch 162, Loss: 0.04946925863623619\n",
      "Epoch 163, Loss: 0.048528771847486496\n",
      "Epoch 164, Loss: 0.04760361462831497\n",
      "Epoch 165, Loss: 0.04668479040265083\n",
      "Epoch 166, Loss: 0.04578116908669472\n",
      "Epoch 167, Loss: 0.044891055673360825\n",
      "Epoch 168, Loss: 0.04403677210211754\n",
      "Epoch 169, Loss: 0.043217092752456665\n",
      "Epoch 170, Loss: 0.04242081195116043\n",
      "Epoch 171, Loss: 0.04162978753447533\n",
      "Epoch 172, Loss: 0.04085111245512962\n",
      "Epoch 173, Loss: 0.04011005163192749\n",
      "Epoch 174, Loss: 0.039389319717884064\n",
      "Epoch 175, Loss: 0.038675907999277115\n",
      "Epoch 176, Loss: 0.03797103837132454\n",
      "Epoch 177, Loss: 0.03727278485894203\n",
      "Epoch 178, Loss: 0.036618925631046295\n",
      "Epoch 179, Loss: 0.03597437962889671\n",
      "Epoch 180, Loss: 0.03535565361380577\n",
      "Epoch 181, Loss: 0.03473867475986481\n",
      "Epoch 182, Loss: 0.03413594514131546\n",
      "Epoch 183, Loss: 0.03353092074394226\n",
      "Epoch 184, Loss: 0.03295639902353287\n",
      "Epoch 185, Loss: 0.03238291293382645\n",
      "Epoch 186, Loss: 0.031810689717531204\n",
      "Epoch 187, Loss: 0.03126559779047966\n",
      "Epoch 188, Loss: 0.03069998137652874\n",
      "Epoch 189, Loss: 0.030163820832967758\n",
      "Epoch 190, Loss: 0.029655123129487038\n",
      "Epoch 191, Loss: 0.029168225824832916\n",
      "Epoch 192, Loss: 0.02868703380227089\n",
      "Epoch 193, Loss: 0.028204258531332016\n",
      "Epoch 194, Loss: 0.027722550556063652\n",
      "Epoch 195, Loss: 0.02726319618523121\n",
      "Epoch 196, Loss: 0.02683396264910698\n",
      "Epoch 197, Loss: 0.02638072520494461\n",
      "Epoch 198, Loss: 0.025939634069800377\n",
      "Epoch 199, Loss: 0.02552403137087822\n",
      "Epoch 200, Loss: 0.02511395886540413\n"
     ]
    }
   ],
   "source": [
    "for epoch in range(1, 201):\n",
    "    optimizer.zero_grad()\n",
    "    outputs = net(X_train)\n",
    "    loss = criterion(outputs, y_train)\n",
    "    loss.backward()\n",
    "    optimizer.step()\n",
    "    losses.append(loss.item())\n",
    "    print(\"Epoch {}, Loss: {}\".format(epoch, loss.item()))"
   ]
  },
  {
   "cell_type": "code",
   "execution_count": 19,
   "metadata": {},
   "outputs": [
    {
     "data": {
      "text/plain": [
       "[<matplotlib.lines.Line2D at 0x7f930c1118d0>]"
      ]
     },
     "execution_count": 19,
     "metadata": {},
     "output_type": "execute_result"
    },
    {
     "data": {
      "image/png": "[encoded data removed]",
      "text/plain": [
       "<Figure size 432x288 with 1 Axes>"
      ]
     },
     "metadata": {},
     "output_type": "display_data"
    }
   ],
   "source": [
    "plt.plot(losses)"
   ]
  },
  {
   "cell_type": "code",
   "execution_count": 20,
   "metadata": {},
   "outputs": [],
   "source": [
    "pred_test = net(X_test)\n",
    "_, preds_y = torch.max(pred_test, 1)"
   ]
  },
  {
   "cell_type": "code",
   "execution_count": 21,
   "metadata": {},
   "outputs": [],
   "source": [
    "from sklearn.metrics import accuracy_score, confusion_matrix, classification_report"
   ]
  },
  {
   "cell_type": "code",
   "execution_count": 22,
   "metadata": {},
   "outputs": [
    {
     "data": {
      "text/plain": [
       "0.7763157894736842"
      ]
     },
     "execution_count": 22,
     "metadata": {},
     "output_type": "execute_result"
    }
   ],
   "source": [
    "accuracy_score(y_test, preds_y)"
   ]
  },
  {
   "cell_type": "code",
   "execution_count": null,
   "metadata": {},
   "outputs": [],
   "source": []
  }
 ],
 "metadata": {
  "kernelspec": {
   "display_name": "Python 3",
   "language": "python",
   "name": "python3"
  },
  "language_info": {
   "codemirror_mode": {
    "name": "ipython",
    "version": 3
   },
   "file_extension": ".py",
   "mimetype": "text/x-python",
   "name": "python",
   "nbconvert_exporter": "python",
   "pygments_lexer": "ipython3",
   "version": "3.6.6"
  }
 },
 "nbformat": 4,
 "nbformat_minor": 1
}
